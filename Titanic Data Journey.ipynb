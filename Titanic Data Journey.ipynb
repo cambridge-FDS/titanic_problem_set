{
 "cells": [
  {
   "cell_type": "code",
   "execution_count": null,
   "id": "f9ae0008",
   "metadata": {},
   "outputs": [],
   "source": [
    "# Import necessary modules\n",
    "import pandas as pd\n",
    "from src.data_processing import load_data, preprocess_data\n",
    "from src.model_training import split_data, train_model, evaluate_model\n",
    "from src.utils import save_model, load_model\n",
    "\n",
    "# Load datasets\n",
    "train_df, test_df = load_data('train.csv', 'test.csv')\n",
    "\n",
    "# Preprocess data\n",
    "train_df = preprocess_data(train_df)\n",
    "test_df = preprocess_data(test_df)\n",
    "\n",
    "# Split data\n",
    "X_train, X_val, y_train, y_val = split_data(train_df)\n",
    "\n",
    "# Train model\n",
    "model = train_model(X_train, y_train)\n",
    "\n",
    "# Evaluate model\n",
    "accuracy = evaluate_model(model, X_val, y_val)\n",
    "print(f\"Validation Accuracy: {accuracy:.2f}\")\n",
    "\n",
    "# Save model\n",
    "save_model(model, 'titanic_rf_model.pkl')\n",
    "\n",
    "# Load model for future use\n",
    "loaded_model = load_model('titanic_rf_model.pkl')\n",
    "\n",
    "# Predict on test data (for Kaggle submission)\n",
    "test_features = test_df.drop(['PassengerId'], axis=1)\n",
    "test_predictions = loaded_model.predict(test_features)"
   ]
  },
  {
   "cell_type": "code",
   "execution_count": 4,
   "id": "e0efd4e0",
   "metadata": {},
   "outputs": [
    {
     "name": "stdout",
     "output_type": "stream",
     "text": [
      "['d:\\\\sgc0326\\\\envs\\\\titanic_environment\\\\python311.zip', 'd:\\\\sgc0326\\\\envs\\\\titanic_environment\\\\DLLs', 'd:\\\\sgc0326\\\\envs\\\\titanic_environment\\\\Lib', 'd:\\\\sgc0326\\\\envs\\\\titanic_environment', '', 'd:\\\\sgc0326\\\\envs\\\\titanic_environment\\\\Lib\\\\site-packages', 'd:\\\\sgc0326\\\\envs\\\\titanic_environment\\\\Lib\\\\site-packages\\\\win32', 'd:\\\\sgc0326\\\\envs\\\\titanic_environment\\\\Lib\\\\site-packages\\\\win32\\\\lib', 'd:\\\\sgc0326\\\\envs\\\\titanic_environment\\\\Lib\\\\site-packages\\\\Pythonwin', 'd:\\\\sgc0326\\\\envs\\\\titanic_environment\\\\Lib\\\\site-packages\\\\setuptools\\\\_vendor']\n"
     ]
    }
   ],
   "source": [
    "import sys\n",
    "print(sys.path)\n"
   ]
  }
 ],
 "metadata": {
  "kernelspec": {
   "display_name": "titanic_environment",
   "language": "python",
   "name": "python3"
  },
  "language_info": {
   "codemirror_mode": {
    "name": "ipython",
    "version": 3
   },
   "file_extension": ".py",
   "mimetype": "text/x-python",
   "name": "python",
   "nbconvert_exporter": "python",
   "pygments_lexer": "ipython3",
   "version": "3.11.4"
  },
  "papermill": {
   "default_parameters": {},
   "duration": 49.560621,
   "end_time": "2023-04-09T13:33:21.452362",
   "environment_variables": {},
   "exception": null,
   "input_path": "__notebook__.ipynb",
   "output_path": "__notebook__.ipynb",
   "parameters": {},
   "start_time": "2023-04-09T13:32:31.891741",
   "version": "2.4.0"
  }
 },
 "nbformat": 4,
 "nbformat_minor": 5
}
